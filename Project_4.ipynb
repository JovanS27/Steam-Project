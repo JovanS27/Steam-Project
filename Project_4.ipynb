{
 "cells": [
  {
   "cell_type": "markdown",
   "id": "8d37a264",
   "metadata": {},
   "source": [
    "# Steam Data for supervised machine learning"
   ]
  },
  {
   "cell_type": "code",
   "execution_count": 126,
   "id": "ddf094d9",
   "metadata": {},
   "outputs": [],
   "source": [
    "import numpy as np\n",
    "import pandas as pd\n",
    "from pathlib import Path\n",
    "from sklearn.model_selection import train_test_split\n",
    "from sklearn.preprocessing import StandardScaler\n",
    "from sklearn.ensemble import RandomForestClassifier\n",
    "from sklearn.linear_model import LinearRegression\n",
    "from sklearn.linear_model import LogisticRegression\n",
    "from sklearn.metrics import confusion_matrix, classification_report"
   ]
  },
  {
   "cell_type": "markdown",
   "id": "83b44e76",
   "metadata": {},
   "source": [
    "### importing csv"
   ]
  },
  {
   "cell_type": "code",
   "execution_count": 157,
   "id": "2a07cfd7",
   "metadata": {},
   "outputs": [
    {
     "data": {
      "text/html": [
       "<div>\n",
       "<style scoped>\n",
       "    .dataframe tbody tr th:only-of-type {\n",
       "        vertical-align: middle;\n",
       "    }\n",
       "\n",
       "    .dataframe tbody tr th {\n",
       "        vertical-align: top;\n",
       "    }\n",
       "\n",
       "    .dataframe thead th {\n",
       "        text-align: right;\n",
       "    }\n",
       "</style>\n",
       "<table border=\"1\" class=\"dataframe\">\n",
       "  <thead>\n",
       "    <tr style=\"text-align: right;\">\n",
       "      <th></th>\n",
       "      <th>appid</th>\n",
       "      <th>name</th>\n",
       "      <th>release_date</th>\n",
       "      <th>english</th>\n",
       "      <th>developer</th>\n",
       "      <th>publisher</th>\n",
       "      <th>platforms</th>\n",
       "      <th>required_age</th>\n",
       "      <th>categories</th>\n",
       "      <th>genres</th>\n",
       "      <th>steamspy_tags</th>\n",
       "      <th>achievements</th>\n",
       "      <th>positive_ratings</th>\n",
       "      <th>%_pos_rating</th>\n",
       "      <th>negative_ratings</th>\n",
       "      <th>total_number_of_ratings</th>\n",
       "      <th>median_playtime</th>\n",
       "      <th>owners</th>\n",
       "      <th>price</th>\n",
       "    </tr>\n",
       "  </thead>\n",
       "  <tbody>\n",
       "    <tr>\n",
       "      <th>0</th>\n",
       "      <td>10</td>\n",
       "      <td>Counter-Strike</td>\n",
       "      <td>01/11/2000</td>\n",
       "      <td>1</td>\n",
       "      <td>Valve</td>\n",
       "      <td>Valve</td>\n",
       "      <td>windows;mac;linux</td>\n",
       "      <td>0</td>\n",
       "      <td>Multi-player;Online Multi-Player;Local Multi-P...</td>\n",
       "      <td>Action</td>\n",
       "      <td>Action;FPS;Multiplayer</td>\n",
       "      <td>0</td>\n",
       "      <td>124534</td>\n",
       "      <td>97</td>\n",
       "      <td>3339</td>\n",
       "      <td>127873</td>\n",
       "      <td>317</td>\n",
       "      <td>10000000-20000000</td>\n",
       "      <td>7.19</td>\n",
       "    </tr>\n",
       "    <tr>\n",
       "      <th>1</th>\n",
       "      <td>20</td>\n",
       "      <td>Team Fortress Classic</td>\n",
       "      <td>01/04/1999</td>\n",
       "      <td>1</td>\n",
       "      <td>Valve</td>\n",
       "      <td>Valve</td>\n",
       "      <td>windows;mac;linux</td>\n",
       "      <td>0</td>\n",
       "      <td>Multi-player;Online Multi-Player;Local Multi-P...</td>\n",
       "      <td>Action</td>\n",
       "      <td>Action;FPS;Multiplayer</td>\n",
       "      <td>0</td>\n",
       "      <td>3318</td>\n",
       "      <td>84</td>\n",
       "      <td>633</td>\n",
       "      <td>3951</td>\n",
       "      <td>62</td>\n",
       "      <td>5000000-10000000</td>\n",
       "      <td>3.99</td>\n",
       "    </tr>\n",
       "    <tr>\n",
       "      <th>2</th>\n",
       "      <td>30</td>\n",
       "      <td>Day of Defeat</td>\n",
       "      <td>01/05/2003</td>\n",
       "      <td>1</td>\n",
       "      <td>Valve</td>\n",
       "      <td>Valve</td>\n",
       "      <td>windows;mac;linux</td>\n",
       "      <td>0</td>\n",
       "      <td>Multi-player;Valve Anti-Cheat enabled</td>\n",
       "      <td>Action</td>\n",
       "      <td>FPS;World War II;Multiplayer</td>\n",
       "      <td>0</td>\n",
       "      <td>3416</td>\n",
       "      <td>90</td>\n",
       "      <td>398</td>\n",
       "      <td>3814</td>\n",
       "      <td>34</td>\n",
       "      <td>5000000-10000000</td>\n",
       "      <td>3.99</td>\n",
       "    </tr>\n",
       "    <tr>\n",
       "      <th>3</th>\n",
       "      <td>40</td>\n",
       "      <td>Deathmatch Classic</td>\n",
       "      <td>01/06/2001</td>\n",
       "      <td>1</td>\n",
       "      <td>Valve</td>\n",
       "      <td>Valve</td>\n",
       "      <td>windows;mac;linux</td>\n",
       "      <td>0</td>\n",
       "      <td>Multi-player;Online Multi-Player;Local Multi-P...</td>\n",
       "      <td>Action</td>\n",
       "      <td>Action;FPS;Multiplayer</td>\n",
       "      <td>0</td>\n",
       "      <td>1273</td>\n",
       "      <td>83</td>\n",
       "      <td>267</td>\n",
       "      <td>1540</td>\n",
       "      <td>184</td>\n",
       "      <td>5000000-10000000</td>\n",
       "      <td>3.99</td>\n",
       "    </tr>\n",
       "    <tr>\n",
       "      <th>4</th>\n",
       "      <td>50</td>\n",
       "      <td>Half-Life: Opposing Force</td>\n",
       "      <td>01/11/1999</td>\n",
       "      <td>1</td>\n",
       "      <td>Gearbox Software</td>\n",
       "      <td>Valve</td>\n",
       "      <td>windows;mac;linux</td>\n",
       "      <td>0</td>\n",
       "      <td>Single-player;Multi-player;Valve Anti-Cheat en...</td>\n",
       "      <td>Action</td>\n",
       "      <td>FPS;Action;Sci-fi</td>\n",
       "      <td>0</td>\n",
       "      <td>5250</td>\n",
       "      <td>95</td>\n",
       "      <td>288</td>\n",
       "      <td>5538</td>\n",
       "      <td>415</td>\n",
       "      <td>5000000-10000000</td>\n",
       "      <td>3.99</td>\n",
       "    </tr>\n",
       "  </tbody>\n",
       "</table>\n",
       "</div>"
      ],
      "text/plain": [
       "   appid                       name release_date  english         developer  \\\n",
       "0     10             Counter-Strike   01/11/2000        1             Valve   \n",
       "1     20      Team Fortress Classic   01/04/1999        1             Valve   \n",
       "2     30              Day of Defeat   01/05/2003        1             Valve   \n",
       "3     40         Deathmatch Classic   01/06/2001        1             Valve   \n",
       "4     50  Half-Life: Opposing Force   01/11/1999        1  Gearbox Software   \n",
       "\n",
       "  publisher          platforms  required_age  \\\n",
       "0     Valve  windows;mac;linux             0   \n",
       "1     Valve  windows;mac;linux             0   \n",
       "2     Valve  windows;mac;linux             0   \n",
       "3     Valve  windows;mac;linux             0   \n",
       "4     Valve  windows;mac;linux             0   \n",
       "\n",
       "                                          categories  genres  \\\n",
       "0  Multi-player;Online Multi-Player;Local Multi-P...  Action   \n",
       "1  Multi-player;Online Multi-Player;Local Multi-P...  Action   \n",
       "2              Multi-player;Valve Anti-Cheat enabled  Action   \n",
       "3  Multi-player;Online Multi-Player;Local Multi-P...  Action   \n",
       "4  Single-player;Multi-player;Valve Anti-Cheat en...  Action   \n",
       "\n",
       "                  steamspy_tags  achievements  positive_ratings  %_pos_rating  \\\n",
       "0        Action;FPS;Multiplayer             0            124534            97   \n",
       "1        Action;FPS;Multiplayer             0              3318            84   \n",
       "2  FPS;World War II;Multiplayer             0              3416            90   \n",
       "3        Action;FPS;Multiplayer             0              1273            83   \n",
       "4             FPS;Action;Sci-fi             0              5250            95   \n",
       "\n",
       "   negative_ratings  total_number_of_ratings  median_playtime  \\\n",
       "0              3339                   127873              317   \n",
       "1               633                     3951               62   \n",
       "2               398                     3814               34   \n",
       "3               267                     1540              184   \n",
       "4               288                     5538              415   \n",
       "\n",
       "              owners  price  \n",
       "0  10000000-20000000   7.19  \n",
       "1   5000000-10000000   3.99  \n",
       "2   5000000-10000000   3.99  \n",
       "3   5000000-10000000   3.99  \n",
       "4   5000000-10000000   3.99  "
      ]
     },
     "execution_count": 157,
     "metadata": {},
     "output_type": "execute_result"
    }
   ],
   "source": [
    "# **************** i have added 2 columns in excel %_pos_rating and total_number_of_ratings *****************************\n",
    "\n",
    "# Import the data\n",
    "steam_data = pd.read_csv(Path('Data/steam.csv'))\n",
    "steam_data.head()"
   ]
  },
  {
   "cell_type": "markdown",
   "id": "4a2d1244",
   "metadata": {},
   "source": [
    "### counting number of steamspy_tags and converting to numerical data"
   ]
  },
  {
   "cell_type": "code",
   "execution_count": null,
   "id": "988d5d86",
   "metadata": {},
   "outputs": [],
   "source": []
  },
  {
   "cell_type": "code",
   "execution_count": 162,
   "id": "ebd66133",
   "metadata": {},
   "outputs": [],
   "source": [
    "replace_steamspy_tags_column = steam_data[\"steamspy_tags\"].str.count(\";\")+1"
   ]
  },
  {
   "cell_type": "code",
   "execution_count": 164,
   "id": "97b6c804",
   "metadata": {},
   "outputs": [
    {
     "data": {
      "text/plain": [
       "0    3\n",
       "1    3\n",
       "2    3\n",
       "3    3\n",
       "4    3\n",
       "Name: steamspy_tags, dtype: int64"
      ]
     },
     "execution_count": 164,
     "metadata": {},
     "output_type": "execute_result"
    }
   ],
   "source": [
    "new_steamspy_tag_data = steam_data['steamspy_tags'] = replace_steamspy_tags_column\n",
    "new_steamspy_tag_data.head()"
   ]
  },
  {
   "cell_type": "code",
   "execution_count": 170,
   "id": "1ffec6f3",
   "metadata": {},
   "outputs": [],
   "source": [
    "#steam_data.head()"
   ]
  },
  {
   "cell_type": "code",
   "execution_count": 166,
   "id": "805eb8b7",
   "metadata": {},
   "outputs": [
    {
     "data": {
      "text/html": [
       "<div>\n",
       "<style scoped>\n",
       "    .dataframe tbody tr th:only-of-type {\n",
       "        vertical-align: middle;\n",
       "    }\n",
       "\n",
       "    .dataframe tbody tr th {\n",
       "        vertical-align: top;\n",
       "    }\n",
       "\n",
       "    .dataframe thead th {\n",
       "        text-align: right;\n",
       "    }\n",
       "</style>\n",
       "<table border=\"1\" class=\"dataframe\">\n",
       "  <thead>\n",
       "    <tr style=\"text-align: right;\">\n",
       "      <th></th>\n",
       "      <th>appid</th>\n",
       "      <th>english</th>\n",
       "      <th>required_age</th>\n",
       "      <th>steamspy_tags</th>\n",
       "      <th>achievements</th>\n",
       "      <th>positive_ratings</th>\n",
       "      <th>%_pos_rating</th>\n",
       "      <th>negative_ratings</th>\n",
       "      <th>total_number_of_ratings</th>\n",
       "      <th>median_playtime</th>\n",
       "      <th>price</th>\n",
       "    </tr>\n",
       "  </thead>\n",
       "  <tbody>\n",
       "    <tr>\n",
       "      <th>count</th>\n",
       "      <td>2.707500e+04</td>\n",
       "      <td>27075.000000</td>\n",
       "      <td>27075.000000</td>\n",
       "      <td>27075.000000</td>\n",
       "      <td>27075.000000</td>\n",
       "      <td>2.707500e+04</td>\n",
       "      <td>27075.000000</td>\n",
       "      <td>27075.000000</td>\n",
       "      <td>2.707500e+04</td>\n",
       "      <td>27075.00000</td>\n",
       "      <td>27075.000000</td>\n",
       "    </tr>\n",
       "    <tr>\n",
       "      <th>mean</th>\n",
       "      <td>5.962035e+05</td>\n",
       "      <td>0.981127</td>\n",
       "      <td>0.354903</td>\n",
       "      <td>2.880960</td>\n",
       "      <td>45.248864</td>\n",
       "      <td>1.000559e+03</td>\n",
       "      <td>71.460462</td>\n",
       "      <td>211.027147</td>\n",
       "      <td>1.211586e+03</td>\n",
       "      <td>146.05603</td>\n",
       "      <td>6.078193</td>\n",
       "    </tr>\n",
       "    <tr>\n",
       "      <th>std</th>\n",
       "      <td>2.508942e+05</td>\n",
       "      <td>0.136081</td>\n",
       "      <td>2.406044</td>\n",
       "      <td>0.382222</td>\n",
       "      <td>352.670281</td>\n",
       "      <td>1.898872e+04</td>\n",
       "      <td>23.363417</td>\n",
       "      <td>4284.938531</td>\n",
       "      <td>2.242909e+04</td>\n",
       "      <td>2353.88008</td>\n",
       "      <td>7.874922</td>\n",
       "    </tr>\n",
       "    <tr>\n",
       "      <th>min</th>\n",
       "      <td>1.000000e+01</td>\n",
       "      <td>0.000000</td>\n",
       "      <td>0.000000</td>\n",
       "      <td>1.000000</td>\n",
       "      <td>0.000000</td>\n",
       "      <td>0.000000e+00</td>\n",
       "      <td>0.000000</td>\n",
       "      <td>0.000000</td>\n",
       "      <td>1.000000e+00</td>\n",
       "      <td>0.00000</td>\n",
       "      <td>0.000000</td>\n",
       "    </tr>\n",
       "    <tr>\n",
       "      <th>25%</th>\n",
       "      <td>4.012300e+05</td>\n",
       "      <td>1.000000</td>\n",
       "      <td>0.000000</td>\n",
       "      <td>3.000000</td>\n",
       "      <td>0.000000</td>\n",
       "      <td>6.000000e+00</td>\n",
       "      <td>58.000000</td>\n",
       "      <td>2.000000</td>\n",
       "      <td>1.000000e+01</td>\n",
       "      <td>0.00000</td>\n",
       "      <td>1.690000</td>\n",
       "    </tr>\n",
       "    <tr>\n",
       "      <th>50%</th>\n",
       "      <td>5.990700e+05</td>\n",
       "      <td>1.000000</td>\n",
       "      <td>0.000000</td>\n",
       "      <td>3.000000</td>\n",
       "      <td>7.000000</td>\n",
       "      <td>2.400000e+01</td>\n",
       "      <td>76.000000</td>\n",
       "      <td>9.000000</td>\n",
       "      <td>3.600000e+01</td>\n",
       "      <td>0.00000</td>\n",
       "      <td>3.990000</td>\n",
       "    </tr>\n",
       "    <tr>\n",
       "      <th>75%</th>\n",
       "      <td>7.987600e+05</td>\n",
       "      <td>1.000000</td>\n",
       "      <td>0.000000</td>\n",
       "      <td>3.000000</td>\n",
       "      <td>23.000000</td>\n",
       "      <td>1.260000e+02</td>\n",
       "      <td>89.000000</td>\n",
       "      <td>42.000000</td>\n",
       "      <td>1.760000e+02</td>\n",
       "      <td>0.00000</td>\n",
       "      <td>7.190000</td>\n",
       "    </tr>\n",
       "    <tr>\n",
       "      <th>max</th>\n",
       "      <td>1.069460e+06</td>\n",
       "      <td>1.000000</td>\n",
       "      <td>18.000000</td>\n",
       "      <td>3.000000</td>\n",
       "      <td>9821.000000</td>\n",
       "      <td>2.644404e+06</td>\n",
       "      <td>100.000000</td>\n",
       "      <td>487076.000000</td>\n",
       "      <td>3.046717e+06</td>\n",
       "      <td>190625.00000</td>\n",
       "      <td>421.990000</td>\n",
       "    </tr>\n",
       "  </tbody>\n",
       "</table>\n",
       "</div>"
      ],
      "text/plain": [
       "              appid       english  required_age  steamspy_tags  achievements  \\\n",
       "count  2.707500e+04  27075.000000  27075.000000   27075.000000  27075.000000   \n",
       "mean   5.962035e+05      0.981127      0.354903       2.880960     45.248864   \n",
       "std    2.508942e+05      0.136081      2.406044       0.382222    352.670281   \n",
       "min    1.000000e+01      0.000000      0.000000       1.000000      0.000000   \n",
       "25%    4.012300e+05      1.000000      0.000000       3.000000      0.000000   \n",
       "50%    5.990700e+05      1.000000      0.000000       3.000000      7.000000   \n",
       "75%    7.987600e+05      1.000000      0.000000       3.000000     23.000000   \n",
       "max    1.069460e+06      1.000000     18.000000       3.000000   9821.000000   \n",
       "\n",
       "       positive_ratings  %_pos_rating  negative_ratings  \\\n",
       "count      2.707500e+04  27075.000000      27075.000000   \n",
       "mean       1.000559e+03     71.460462        211.027147   \n",
       "std        1.898872e+04     23.363417       4284.938531   \n",
       "min        0.000000e+00      0.000000          0.000000   \n",
       "25%        6.000000e+00     58.000000          2.000000   \n",
       "50%        2.400000e+01     76.000000          9.000000   \n",
       "75%        1.260000e+02     89.000000         42.000000   \n",
       "max        2.644404e+06    100.000000     487076.000000   \n",
       "\n",
       "       total_number_of_ratings  median_playtime         price  \n",
       "count             2.707500e+04      27075.00000  27075.000000  \n",
       "mean              1.211586e+03        146.05603      6.078193  \n",
       "std               2.242909e+04       2353.88008      7.874922  \n",
       "min               1.000000e+00          0.00000      0.000000  \n",
       "25%               1.000000e+01          0.00000      1.690000  \n",
       "50%               3.600000e+01          0.00000      3.990000  \n",
       "75%               1.760000e+02          0.00000      7.190000  \n",
       "max               3.046717e+06     190625.00000    421.990000  "
      ]
     },
     "execution_count": 166,
     "metadata": {},
     "output_type": "execute_result"
    }
   ],
   "source": [
    "steam_data.describe()"
   ]
  },
  {
   "cell_type": "markdown",
   "id": "e0784fdc",
   "metadata": {},
   "source": [
    "###  counting number of categories and converting to numerical data"
   ]
  },
  {
   "cell_type": "code",
   "execution_count": null,
   "id": "d3d9a509",
   "metadata": {},
   "outputs": [],
   "source": []
  },
  {
   "cell_type": "code",
   "execution_count": 167,
   "id": "0f36ae18",
   "metadata": {},
   "outputs": [],
   "source": [
    "replace_categories_column = steam_data[\"categories\"].str.count(\";\")+1"
   ]
  },
  {
   "cell_type": "code",
   "execution_count": 168,
   "id": "96c47725",
   "metadata": {},
   "outputs": [
    {
     "data": {
      "text/plain": [
       "0    4\n",
       "1    4\n",
       "2    2\n",
       "3    4\n",
       "4    3\n",
       "Name: categories, dtype: int64"
      ]
     },
     "execution_count": 168,
     "metadata": {},
     "output_type": "execute_result"
    }
   ],
   "source": [
    "new_categories_data = steam_data['categories'] = replace_categories_column\n",
    "new_categories_data.head()"
   ]
  },
  {
   "cell_type": "code",
   "execution_count": 169,
   "id": "3bd40d44",
   "metadata": {},
   "outputs": [
    {
     "data": {
      "text/html": [
       "<div>\n",
       "<style scoped>\n",
       "    .dataframe tbody tr th:only-of-type {\n",
       "        vertical-align: middle;\n",
       "    }\n",
       "\n",
       "    .dataframe tbody tr th {\n",
       "        vertical-align: top;\n",
       "    }\n",
       "\n",
       "    .dataframe thead th {\n",
       "        text-align: right;\n",
       "    }\n",
       "</style>\n",
       "<table border=\"1\" class=\"dataframe\">\n",
       "  <thead>\n",
       "    <tr style=\"text-align: right;\">\n",
       "      <th></th>\n",
       "      <th>appid</th>\n",
       "      <th>english</th>\n",
       "      <th>required_age</th>\n",
       "      <th>categories</th>\n",
       "      <th>steamspy_tags</th>\n",
       "      <th>achievements</th>\n",
       "      <th>positive_ratings</th>\n",
       "      <th>%_pos_rating</th>\n",
       "      <th>negative_ratings</th>\n",
       "      <th>total_number_of_ratings</th>\n",
       "      <th>median_playtime</th>\n",
       "      <th>price</th>\n",
       "    </tr>\n",
       "  </thead>\n",
       "  <tbody>\n",
       "    <tr>\n",
       "      <th>count</th>\n",
       "      <td>2.707500e+04</td>\n",
       "      <td>27075.000000</td>\n",
       "      <td>27075.000000</td>\n",
       "      <td>27075.000000</td>\n",
       "      <td>27075.000000</td>\n",
       "      <td>27075.000000</td>\n",
       "      <td>2.707500e+04</td>\n",
       "      <td>27075.000000</td>\n",
       "      <td>27075.000000</td>\n",
       "      <td>2.707500e+04</td>\n",
       "      <td>27075.00000</td>\n",
       "      <td>27075.000000</td>\n",
       "    </tr>\n",
       "    <tr>\n",
       "      <th>mean</th>\n",
       "      <td>5.962035e+05</td>\n",
       "      <td>0.981127</td>\n",
       "      <td>0.354903</td>\n",
       "      <td>3.313980</td>\n",
       "      <td>2.880960</td>\n",
       "      <td>45.248864</td>\n",
       "      <td>1.000559e+03</td>\n",
       "      <td>71.460462</td>\n",
       "      <td>211.027147</td>\n",
       "      <td>1.211586e+03</td>\n",
       "      <td>146.05603</td>\n",
       "      <td>6.078193</td>\n",
       "    </tr>\n",
       "    <tr>\n",
       "      <th>std</th>\n",
       "      <td>2.508942e+05</td>\n",
       "      <td>0.136081</td>\n",
       "      <td>2.406044</td>\n",
       "      <td>2.235836</td>\n",
       "      <td>0.382222</td>\n",
       "      <td>352.670281</td>\n",
       "      <td>1.898872e+04</td>\n",
       "      <td>23.363417</td>\n",
       "      <td>4284.938531</td>\n",
       "      <td>2.242909e+04</td>\n",
       "      <td>2353.88008</td>\n",
       "      <td>7.874922</td>\n",
       "    </tr>\n",
       "    <tr>\n",
       "      <th>min</th>\n",
       "      <td>1.000000e+01</td>\n",
       "      <td>0.000000</td>\n",
       "      <td>0.000000</td>\n",
       "      <td>1.000000</td>\n",
       "      <td>1.000000</td>\n",
       "      <td>0.000000</td>\n",
       "      <td>0.000000e+00</td>\n",
       "      <td>0.000000</td>\n",
       "      <td>0.000000</td>\n",
       "      <td>1.000000e+00</td>\n",
       "      <td>0.00000</td>\n",
       "      <td>0.000000</td>\n",
       "    </tr>\n",
       "    <tr>\n",
       "      <th>25%</th>\n",
       "      <td>4.012300e+05</td>\n",
       "      <td>1.000000</td>\n",
       "      <td>0.000000</td>\n",
       "      <td>2.000000</td>\n",
       "      <td>3.000000</td>\n",
       "      <td>0.000000</td>\n",
       "      <td>6.000000e+00</td>\n",
       "      <td>58.000000</td>\n",
       "      <td>2.000000</td>\n",
       "      <td>1.000000e+01</td>\n",
       "      <td>0.00000</td>\n",
       "      <td>1.690000</td>\n",
       "    </tr>\n",
       "    <tr>\n",
       "      <th>50%</th>\n",
       "      <td>5.990700e+05</td>\n",
       "      <td>1.000000</td>\n",
       "      <td>0.000000</td>\n",
       "      <td>3.000000</td>\n",
       "      <td>3.000000</td>\n",
       "      <td>7.000000</td>\n",
       "      <td>2.400000e+01</td>\n",
       "      <td>76.000000</td>\n",
       "      <td>9.000000</td>\n",
       "      <td>3.600000e+01</td>\n",
       "      <td>0.00000</td>\n",
       "      <td>3.990000</td>\n",
       "    </tr>\n",
       "    <tr>\n",
       "      <th>75%</th>\n",
       "      <td>7.987600e+05</td>\n",
       "      <td>1.000000</td>\n",
       "      <td>0.000000</td>\n",
       "      <td>4.000000</td>\n",
       "      <td>3.000000</td>\n",
       "      <td>23.000000</td>\n",
       "      <td>1.260000e+02</td>\n",
       "      <td>89.000000</td>\n",
       "      <td>42.000000</td>\n",
       "      <td>1.760000e+02</td>\n",
       "      <td>0.00000</td>\n",
       "      <td>7.190000</td>\n",
       "    </tr>\n",
       "    <tr>\n",
       "      <th>max</th>\n",
       "      <td>1.069460e+06</td>\n",
       "      <td>1.000000</td>\n",
       "      <td>18.000000</td>\n",
       "      <td>18.000000</td>\n",
       "      <td>3.000000</td>\n",
       "      <td>9821.000000</td>\n",
       "      <td>2.644404e+06</td>\n",
       "      <td>100.000000</td>\n",
       "      <td>487076.000000</td>\n",
       "      <td>3.046717e+06</td>\n",
       "      <td>190625.00000</td>\n",
       "      <td>421.990000</td>\n",
       "    </tr>\n",
       "  </tbody>\n",
       "</table>\n",
       "</div>"
      ],
      "text/plain": [
       "              appid       english  required_age    categories  steamspy_tags  \\\n",
       "count  2.707500e+04  27075.000000  27075.000000  27075.000000   27075.000000   \n",
       "mean   5.962035e+05      0.981127      0.354903      3.313980       2.880960   \n",
       "std    2.508942e+05      0.136081      2.406044      2.235836       0.382222   \n",
       "min    1.000000e+01      0.000000      0.000000      1.000000       1.000000   \n",
       "25%    4.012300e+05      1.000000      0.000000      2.000000       3.000000   \n",
       "50%    5.990700e+05      1.000000      0.000000      3.000000       3.000000   \n",
       "75%    7.987600e+05      1.000000      0.000000      4.000000       3.000000   \n",
       "max    1.069460e+06      1.000000     18.000000     18.000000       3.000000   \n",
       "\n",
       "       achievements  positive_ratings  %_pos_rating  negative_ratings  \\\n",
       "count  27075.000000      2.707500e+04  27075.000000      27075.000000   \n",
       "mean      45.248864      1.000559e+03     71.460462        211.027147   \n",
       "std      352.670281      1.898872e+04     23.363417       4284.938531   \n",
       "min        0.000000      0.000000e+00      0.000000          0.000000   \n",
       "25%        0.000000      6.000000e+00     58.000000          2.000000   \n",
       "50%        7.000000      2.400000e+01     76.000000          9.000000   \n",
       "75%       23.000000      1.260000e+02     89.000000         42.000000   \n",
       "max     9821.000000      2.644404e+06    100.000000     487076.000000   \n",
       "\n",
       "       total_number_of_ratings  median_playtime         price  \n",
       "count             2.707500e+04      27075.00000  27075.000000  \n",
       "mean              1.211586e+03        146.05603      6.078193  \n",
       "std               2.242909e+04       2353.88008      7.874922  \n",
       "min               1.000000e+00          0.00000      0.000000  \n",
       "25%               1.000000e+01          0.00000      1.690000  \n",
       "50%               3.600000e+01          0.00000      3.990000  \n",
       "75%               1.760000e+02          0.00000      7.190000  \n",
       "max               3.046717e+06     190625.00000    421.990000  "
      ]
     },
     "execution_count": 169,
     "metadata": {},
     "output_type": "execute_result"
    }
   ],
   "source": [
    "steam_data.describe()"
   ]
  },
  {
   "cell_type": "code",
   "execution_count": null,
   "id": "81e5f74a",
   "metadata": {},
   "outputs": [],
   "source": []
  },
  {
   "cell_type": "code",
   "execution_count": 128,
   "id": "3f0311bb",
   "metadata": {},
   "outputs": [
    {
     "data": {
      "text/plain": [
       "False"
      ]
     },
     "execution_count": 128,
     "metadata": {},
     "output_type": "execute_result"
    }
   ],
   "source": [
    "steam_data.isnull().values.any()"
   ]
  },
  {
   "cell_type": "code",
   "execution_count": 129,
   "id": "1e2ebe06",
   "metadata": {},
   "outputs": [
    {
     "name": "stdout",
     "output_type": "stream",
     "text": [
      "<class 'pandas.core.frame.DataFrame'>\n",
      "RangeIndex: 27075 entries, 0 to 27074\n",
      "Data columns (total 19 columns):\n",
      " #   Column                   Non-Null Count  Dtype  \n",
      "---  ------                   --------------  -----  \n",
      " 0   appid                    27075 non-null  int64  \n",
      " 1   name                     27075 non-null  object \n",
      " 2   release_date             27075 non-null  object \n",
      " 3   english                  27075 non-null  int64  \n",
      " 4   developer                27075 non-null  object \n",
      " 5   publisher                27075 non-null  object \n",
      " 6   platforms                27075 non-null  object \n",
      " 7   required_age             27075 non-null  int64  \n",
      " 8   categories               27075 non-null  object \n",
      " 9   genres                   27075 non-null  object \n",
      " 10  steamspy_tags            27075 non-null  object \n",
      " 11  achievements             27075 non-null  int64  \n",
      " 12  positive_ratings         27075 non-null  int64  \n",
      " 13  %_pos_rating             27075 non-null  int64  \n",
      " 14  negative_ratings         27075 non-null  int64  \n",
      " 15  total_number_of_ratings  27075 non-null  int64  \n",
      " 16  median_playtime          27075 non-null  int64  \n",
      " 17  owners                   27075 non-null  object \n",
      " 18  price                    27075 non-null  float64\n",
      "dtypes: float64(1), int64(9), object(9)\n",
      "memory usage: 3.9+ MB\n"
     ]
    }
   ],
   "source": [
    "steam_data.info()"
   ]
  },
  {
   "cell_type": "code",
   "execution_count": 130,
   "id": "17622894",
   "metadata": {},
   "outputs": [],
   "source": [
    "import matplotlib.pyplot as plt"
   ]
  },
  {
   "cell_type": "code",
   "execution_count": 173,
   "id": "309d6f53",
   "metadata": {},
   "outputs": [
    {
     "ename": "KeyError",
     "evalue": "'average_playtime'",
     "output_type": "error",
     "traceback": [
      "\u001b[1;31m---------------------------------------------------------------------------\u001b[0m",
      "\u001b[1;31mKeyError\u001b[0m                                  Traceback (most recent call last)",
      "\u001b[1;32m~\\anaconda3\\lib\\site-packages\\pandas\\core\\indexes\\base.py\u001b[0m in \u001b[0;36mget_loc\u001b[1;34m(self, key, method, tolerance)\u001b[0m\n\u001b[0;32m   3360\u001b[0m             \u001b[1;32mtry\u001b[0m\u001b[1;33m:\u001b[0m\u001b[1;33m\u001b[0m\u001b[1;33m\u001b[0m\u001b[0m\n\u001b[1;32m-> 3361\u001b[1;33m                 \u001b[1;32mreturn\u001b[0m \u001b[0mself\u001b[0m\u001b[1;33m.\u001b[0m\u001b[0m_engine\u001b[0m\u001b[1;33m.\u001b[0m\u001b[0mget_loc\u001b[0m\u001b[1;33m(\u001b[0m\u001b[0mcasted_key\u001b[0m\u001b[1;33m)\u001b[0m\u001b[1;33m\u001b[0m\u001b[1;33m\u001b[0m\u001b[0m\n\u001b[0m\u001b[0;32m   3362\u001b[0m             \u001b[1;32mexcept\u001b[0m \u001b[0mKeyError\u001b[0m \u001b[1;32mas\u001b[0m \u001b[0merr\u001b[0m\u001b[1;33m:\u001b[0m\u001b[1;33m\u001b[0m\u001b[1;33m\u001b[0m\u001b[0m\n",
      "\u001b[1;32m~\\anaconda3\\lib\\site-packages\\pandas\\_libs\\index.pyx\u001b[0m in \u001b[0;36mpandas._libs.index.IndexEngine.get_loc\u001b[1;34m()\u001b[0m\n",
      "\u001b[1;32m~\\anaconda3\\lib\\site-packages\\pandas\\_libs\\index.pyx\u001b[0m in \u001b[0;36mpandas._libs.index.IndexEngine.get_loc\u001b[1;34m()\u001b[0m\n",
      "\u001b[1;32mpandas\\_libs\\hashtable_class_helper.pxi\u001b[0m in \u001b[0;36mpandas._libs.hashtable.PyObjectHashTable.get_item\u001b[1;34m()\u001b[0m\n",
      "\u001b[1;32mpandas\\_libs\\hashtable_class_helper.pxi\u001b[0m in \u001b[0;36mpandas._libs.hashtable.PyObjectHashTable.get_item\u001b[1;34m()\u001b[0m\n",
      "\u001b[1;31mKeyError\u001b[0m: 'average_playtime'",
      "\nThe above exception was the direct cause of the following exception:\n",
      "\u001b[1;31mKeyError\u001b[0m                                  Traceback (most recent call last)",
      "\u001b[1;32m~\\AppData\\Local\\Temp/ipykernel_2368/1456907781.py\u001b[0m in \u001b[0;36m<module>\u001b[1;34m\u001b[0m\n\u001b[0;32m      6\u001b[0m \u001b[0mplt\u001b[0m\u001b[1;33m.\u001b[0m\u001b[0mylabel\u001b[0m\u001b[1;33m(\u001b[0m\u001b[1;34m\"appid\"\u001b[0m\u001b[1;33m)\u001b[0m\u001b[1;33m\u001b[0m\u001b[1;33m\u001b[0m\u001b[0m\n\u001b[0;32m      7\u001b[0m \u001b[1;33m\u001b[0m\u001b[0m\n\u001b[1;32m----> 8\u001b[1;33m \u001b[0mplt\u001b[0m\u001b[1;33m.\u001b[0m\u001b[0mscatter\u001b[0m\u001b[1;33m(\u001b[0m\u001b[0msteam_data\u001b[0m\u001b[1;33m[\u001b[0m\u001b[1;34m'positive_ratings'\u001b[0m\u001b[1;33m]\u001b[0m\u001b[1;33m,\u001b[0m \u001b[0msteam_data\u001b[0m\u001b[1;33m[\u001b[0m\u001b[1;34m'average_playtime'\u001b[0m\u001b[1;33m]\u001b[0m\u001b[1;33m)\u001b[0m\u001b[1;33m\u001b[0m\u001b[1;33m\u001b[0m\u001b[0m\n\u001b[0m\u001b[0;32m      9\u001b[0m \u001b[0mplt\u001b[0m\u001b[1;33m.\u001b[0m\u001b[0mxlabel\u001b[0m\u001b[1;33m(\u001b[0m\u001b[1;34m\"positive_ratings\"\u001b[0m\u001b[1;33m)\u001b[0m\u001b[1;33m\u001b[0m\u001b[1;33m\u001b[0m\u001b[0m\n\u001b[0;32m     10\u001b[0m \u001b[0mplt\u001b[0m\u001b[1;33m.\u001b[0m\u001b[0mylabel\u001b[0m\u001b[1;33m(\u001b[0m\u001b[1;34m\"average_playtime\"\u001b[0m\u001b[1;33m)\u001b[0m\u001b[1;33m\u001b[0m\u001b[1;33m\u001b[0m\u001b[0m\n",
      "\u001b[1;32m~\\anaconda3\\lib\\site-packages\\pandas\\core\\frame.py\u001b[0m in \u001b[0;36m__getitem__\u001b[1;34m(self, key)\u001b[0m\n\u001b[0;32m   3456\u001b[0m             \u001b[1;32mif\u001b[0m \u001b[0mself\u001b[0m\u001b[1;33m.\u001b[0m\u001b[0mcolumns\u001b[0m\u001b[1;33m.\u001b[0m\u001b[0mnlevels\u001b[0m \u001b[1;33m>\u001b[0m \u001b[1;36m1\u001b[0m\u001b[1;33m:\u001b[0m\u001b[1;33m\u001b[0m\u001b[1;33m\u001b[0m\u001b[0m\n\u001b[0;32m   3457\u001b[0m                 \u001b[1;32mreturn\u001b[0m \u001b[0mself\u001b[0m\u001b[1;33m.\u001b[0m\u001b[0m_getitem_multilevel\u001b[0m\u001b[1;33m(\u001b[0m\u001b[0mkey\u001b[0m\u001b[1;33m)\u001b[0m\u001b[1;33m\u001b[0m\u001b[1;33m\u001b[0m\u001b[0m\n\u001b[1;32m-> 3458\u001b[1;33m             \u001b[0mindexer\u001b[0m \u001b[1;33m=\u001b[0m \u001b[0mself\u001b[0m\u001b[1;33m.\u001b[0m\u001b[0mcolumns\u001b[0m\u001b[1;33m.\u001b[0m\u001b[0mget_loc\u001b[0m\u001b[1;33m(\u001b[0m\u001b[0mkey\u001b[0m\u001b[1;33m)\u001b[0m\u001b[1;33m\u001b[0m\u001b[1;33m\u001b[0m\u001b[0m\n\u001b[0m\u001b[0;32m   3459\u001b[0m             \u001b[1;32mif\u001b[0m \u001b[0mis_integer\u001b[0m\u001b[1;33m(\u001b[0m\u001b[0mindexer\u001b[0m\u001b[1;33m)\u001b[0m\u001b[1;33m:\u001b[0m\u001b[1;33m\u001b[0m\u001b[1;33m\u001b[0m\u001b[0m\n\u001b[0;32m   3460\u001b[0m                 \u001b[0mindexer\u001b[0m \u001b[1;33m=\u001b[0m \u001b[1;33m[\u001b[0m\u001b[0mindexer\u001b[0m\u001b[1;33m]\u001b[0m\u001b[1;33m\u001b[0m\u001b[1;33m\u001b[0m\u001b[0m\n",
      "\u001b[1;32m~\\anaconda3\\lib\\site-packages\\pandas\\core\\indexes\\base.py\u001b[0m in \u001b[0;36mget_loc\u001b[1;34m(self, key, method, tolerance)\u001b[0m\n\u001b[0;32m   3361\u001b[0m                 \u001b[1;32mreturn\u001b[0m \u001b[0mself\u001b[0m\u001b[1;33m.\u001b[0m\u001b[0m_engine\u001b[0m\u001b[1;33m.\u001b[0m\u001b[0mget_loc\u001b[0m\u001b[1;33m(\u001b[0m\u001b[0mcasted_key\u001b[0m\u001b[1;33m)\u001b[0m\u001b[1;33m\u001b[0m\u001b[1;33m\u001b[0m\u001b[0m\n\u001b[0;32m   3362\u001b[0m             \u001b[1;32mexcept\u001b[0m \u001b[0mKeyError\u001b[0m \u001b[1;32mas\u001b[0m \u001b[0merr\u001b[0m\u001b[1;33m:\u001b[0m\u001b[1;33m\u001b[0m\u001b[1;33m\u001b[0m\u001b[0m\n\u001b[1;32m-> 3363\u001b[1;33m                 \u001b[1;32mraise\u001b[0m \u001b[0mKeyError\u001b[0m\u001b[1;33m(\u001b[0m\u001b[0mkey\u001b[0m\u001b[1;33m)\u001b[0m \u001b[1;32mfrom\u001b[0m \u001b[0merr\u001b[0m\u001b[1;33m\u001b[0m\u001b[1;33m\u001b[0m\u001b[0m\n\u001b[0m\u001b[0;32m   3364\u001b[0m \u001b[1;33m\u001b[0m\u001b[0m\n\u001b[0;32m   3365\u001b[0m         \u001b[1;32mif\u001b[0m \u001b[0mis_scalar\u001b[0m\u001b[1;33m(\u001b[0m\u001b[0mkey\u001b[0m\u001b[1;33m)\u001b[0m \u001b[1;32mand\u001b[0m \u001b[0misna\u001b[0m\u001b[1;33m(\u001b[0m\u001b[0mkey\u001b[0m\u001b[1;33m)\u001b[0m \u001b[1;32mand\u001b[0m \u001b[1;32mnot\u001b[0m \u001b[0mself\u001b[0m\u001b[1;33m.\u001b[0m\u001b[0mhasnans\u001b[0m\u001b[1;33m:\u001b[0m\u001b[1;33m\u001b[0m\u001b[1;33m\u001b[0m\u001b[0m\n",
      "\u001b[1;31mKeyError\u001b[0m: 'average_playtime'"
     ]
    },
    {
     "data": {
      "image/png": "[encoded data removed]",
      "text/plain": [
       "<Figure size 432x288 with 1 Axes>"
      ]
     },
     "metadata": {
      "needs_background": "light"
     },
     "output_type": "display_data"
    }
   ],
   "source": [
    "# Plot the positive_ratings & appid to find out if a linear trend exists\n",
    "\n",
    "### BEGIN SOLUTION\n",
    "plt.scatter(steam_data['positive_ratings'], steam_data['appid'])\n",
    "plt.xlabel(\"positive_ratings\")\n",
    "plt.ylabel(\"appid\")\n",
    "\n",
    "plt.scatter(steam_data['positive_ratings'], steam_data['average_playtime'])\n",
    "plt.xlabel(\"positive_ratings\")\n",
    "plt.ylabel(\"average_playtime\")"
   ]
  },
  {
   "cell_type": "code",
   "execution_count": null,
   "id": "c901313c",
   "metadata": {},
   "outputs": [],
   "source": [
    "\n",
    "# Plot the negative_ratings & average_playtime to find out if a linear trend exists\n",
    "\n",
    "### BEGIN SOLUTION\n",
    "plt.scatter(steam_data['negative_ratings'], steam_data['average_playtime'])\n",
    "plt.xlabel(\"negative_ratings\")\n",
    "plt.ylabel(\"average_playtime\")\n"
   ]
  },
  {
   "cell_type": "code",
   "execution_count": null,
   "id": "e8dcce9b",
   "metadata": {},
   "outputs": [],
   "source": [
    "# Plot the negative_ratings & average_playtime to find out if a linear trend exists\n",
    "\n",
    "### BEGIN SOLUTION\n",
    "plt.scatter(steam_data['positive_ratings'], steam_data['price'])\n",
    "plt.xlabel(\"positive_ratings\")\n",
    "plt.ylabel(\"price\")"
   ]
  },
  {
   "cell_type": "code",
   "execution_count": null,
   "id": "5b8058d0",
   "metadata": {},
   "outputs": [],
   "source": [
    "# Plot the negative_ratings & appid to find out if a linear trend exists\n",
    "\n",
    "### BEGIN SOLUTION\n",
    "plt.scatter(steam_data['negative_ratings'], steam_data['price'])\n",
    "plt.xlabel(\"negative_ratings\")\n",
    "plt.ylabel(\"price\")"
   ]
  },
  {
   "cell_type": "code",
   "execution_count": null,
   "id": "019ebeba",
   "metadata": {},
   "outputs": [],
   "source": [
    "import seaborn"
   ]
  },
  {
   "cell_type": "code",
   "execution_count": 132,
   "id": "801d8086",
   "metadata": {},
   "outputs": [],
   "source": [
    "#seaborn.PairGrid(steam_data).steam_data_upper(plt.scatter)"
   ]
  },
  {
   "cell_type": "code",
   "execution_count": 133,
   "id": "dd39236e",
   "metadata": {},
   "outputs": [],
   "source": [
    "#team_data.positive_ratings.unique()"
   ]
  },
  {
   "cell_type": "code",
   "execution_count": 147,
   "id": "9b516efd",
   "metadata": {},
   "outputs": [],
   "source": [
    "new_steam_data = steam_data.drop([\"appid\",\"name\",\"release_date\",\"developer\",\"publisher\",\"platforms\",\n",
    "    \"categories\",\"genres\", \"steamspy_tags\", \"owners\",\"positive_ratings\",\"negative_ratings\"], axis =1)\n"
   ]
  },
  {
   "cell_type": "code",
   "execution_count": 148,
   "id": "ee4e40a1",
   "metadata": {
    "scrolled": true
   },
   "outputs": [
    {
     "data": {
      "text/html": [
       "<div>\n",
       "<style scoped>\n",
       "    .dataframe tbody tr th:only-of-type {\n",
       "        vertical-align: middle;\n",
       "    }\n",
       "\n",
       "    .dataframe tbody tr th {\n",
       "        vertical-align: top;\n",
       "    }\n",
       "\n",
       "    .dataframe thead th {\n",
       "        text-align: right;\n",
       "    }\n",
       "</style>\n",
       "<table border=\"1\" class=\"dataframe\">\n",
       "  <thead>\n",
       "    <tr style=\"text-align: right;\">\n",
       "      <th></th>\n",
       "      <th>english</th>\n",
       "      <th>required_age</th>\n",
       "      <th>achievements</th>\n",
       "      <th>%_pos_rating</th>\n",
       "      <th>total_number_of_ratings</th>\n",
       "      <th>median_playtime</th>\n",
       "      <th>price</th>\n",
       "    </tr>\n",
       "  </thead>\n",
       "  <tbody>\n",
       "    <tr>\n",
       "      <th>0</th>\n",
       "      <td>1</td>\n",
       "      <td>0</td>\n",
       "      <td>0</td>\n",
       "      <td>97</td>\n",
       "      <td>127873</td>\n",
       "      <td>317</td>\n",
       "      <td>7.19</td>\n",
       "    </tr>\n",
       "    <tr>\n",
       "      <th>1</th>\n",
       "      <td>1</td>\n",
       "      <td>0</td>\n",
       "      <td>0</td>\n",
       "      <td>84</td>\n",
       "      <td>3951</td>\n",
       "      <td>62</td>\n",
       "      <td>3.99</td>\n",
       "    </tr>\n",
       "    <tr>\n",
       "      <th>2</th>\n",
       "      <td>1</td>\n",
       "      <td>0</td>\n",
       "      <td>0</td>\n",
       "      <td>90</td>\n",
       "      <td>3814</td>\n",
       "      <td>34</td>\n",
       "      <td>3.99</td>\n",
       "    </tr>\n",
       "    <tr>\n",
       "      <th>3</th>\n",
       "      <td>1</td>\n",
       "      <td>0</td>\n",
       "      <td>0</td>\n",
       "      <td>83</td>\n",
       "      <td>1540</td>\n",
       "      <td>184</td>\n",
       "      <td>3.99</td>\n",
       "    </tr>\n",
       "    <tr>\n",
       "      <th>4</th>\n",
       "      <td>1</td>\n",
       "      <td>0</td>\n",
       "      <td>0</td>\n",
       "      <td>95</td>\n",
       "      <td>5538</td>\n",
       "      <td>415</td>\n",
       "      <td>3.99</td>\n",
       "    </tr>\n",
       "  </tbody>\n",
       "</table>\n",
       "</div>"
      ],
      "text/plain": [
       "   english  required_age  achievements  %_pos_rating  total_number_of_ratings  \\\n",
       "0        1             0             0            97                   127873   \n",
       "1        1             0             0            84                     3951   \n",
       "2        1             0             0            90                     3814   \n",
       "3        1             0             0            83                     1540   \n",
       "4        1             0             0            95                     5538   \n",
       "\n",
       "   median_playtime  price  \n",
       "0              317   7.19  \n",
       "1               62   3.99  \n",
       "2               34   3.99  \n",
       "3              184   3.99  \n",
       "4              415   3.99  "
      ]
     },
     "execution_count": 148,
     "metadata": {},
     "output_type": "execute_result"
    }
   ],
   "source": [
    "new_steam_data.head()"
   ]
  },
  {
   "cell_type": "code",
   "execution_count": null,
   "id": "4269a98b",
   "metadata": {},
   "outputs": [],
   "source": [
    "# added coloun in excel for % ratings positive and total number of ratings"
   ]
  },
  {
   "cell_type": "code",
   "execution_count": 149,
   "id": "f1671c83",
   "metadata": {},
   "outputs": [
    {
     "data": {
      "text/html": [
       "<div>\n",
       "<style scoped>\n",
       "    .dataframe tbody tr th:only-of-type {\n",
       "        vertical-align: middle;\n",
       "    }\n",
       "\n",
       "    .dataframe tbody tr th {\n",
       "        vertical-align: top;\n",
       "    }\n",
       "\n",
       "    .dataframe thead th {\n",
       "        text-align: right;\n",
       "    }\n",
       "</style>\n",
       "<table border=\"1\" class=\"dataframe\">\n",
       "  <thead>\n",
       "    <tr style=\"text-align: right;\">\n",
       "      <th></th>\n",
       "      <th>english</th>\n",
       "      <th>required_age</th>\n",
       "      <th>achievements</th>\n",
       "      <th>%_pos_rating</th>\n",
       "      <th>total_number_of_ratings</th>\n",
       "      <th>median_playtime</th>\n",
       "      <th>price</th>\n",
       "    </tr>\n",
       "  </thead>\n",
       "  <tbody>\n",
       "    <tr>\n",
       "      <th>0</th>\n",
       "      <td>1</td>\n",
       "      <td>0</td>\n",
       "      <td>0</td>\n",
       "      <td>97</td>\n",
       "      <td>127873</td>\n",
       "      <td>317</td>\n",
       "      <td>7.19</td>\n",
       "    </tr>\n",
       "    <tr>\n",
       "      <th>1</th>\n",
       "      <td>1</td>\n",
       "      <td>0</td>\n",
       "      <td>0</td>\n",
       "      <td>84</td>\n",
       "      <td>3951</td>\n",
       "      <td>62</td>\n",
       "      <td>3.99</td>\n",
       "    </tr>\n",
       "    <tr>\n",
       "      <th>2</th>\n",
       "      <td>1</td>\n",
       "      <td>0</td>\n",
       "      <td>0</td>\n",
       "      <td>90</td>\n",
       "      <td>3814</td>\n",
       "      <td>34</td>\n",
       "      <td>3.99</td>\n",
       "    </tr>\n",
       "    <tr>\n",
       "      <th>3</th>\n",
       "      <td>1</td>\n",
       "      <td>0</td>\n",
       "      <td>0</td>\n",
       "      <td>83</td>\n",
       "      <td>1540</td>\n",
       "      <td>184</td>\n",
       "      <td>3.99</td>\n",
       "    </tr>\n",
       "    <tr>\n",
       "      <th>4</th>\n",
       "      <td>1</td>\n",
       "      <td>0</td>\n",
       "      <td>0</td>\n",
       "      <td>95</td>\n",
       "      <td>5538</td>\n",
       "      <td>415</td>\n",
       "      <td>3.99</td>\n",
       "    </tr>\n",
       "  </tbody>\n",
       "</table>\n",
       "</div>"
      ],
      "text/plain": [
       "   english  required_age  achievements  %_pos_rating  total_number_of_ratings  \\\n",
       "0        1             0             0            97                   127873   \n",
       "1        1             0             0            84                     3951   \n",
       "2        1             0             0            90                     3814   \n",
       "3        1             0             0            83                     1540   \n",
       "4        1             0             0            95                     5538   \n",
       "\n",
       "   median_playtime  price  \n",
       "0              317   7.19  \n",
       "1               62   3.99  \n",
       "2               34   3.99  \n",
       "3              184   3.99  \n",
       "4              415   3.99  "
      ]
     },
     "execution_count": 149,
     "metadata": {},
     "output_type": "execute_result"
    }
   ],
   "source": [
    "new_steam_data.head()"
   ]
  },
  {
   "cell_type": "code",
   "execution_count": 144,
   "id": "6a6e6331",
   "metadata": {},
   "outputs": [
    {
     "name": "stdout",
     "output_type": "stream",
     "text": [
      "<class 'pandas.core.frame.DataFrame'>\n",
      "RangeIndex: 27075 entries, 0 to 27074\n",
      "Data columns (total 9 columns):\n",
      " #   Column                   Non-Null Count  Dtype  \n",
      "---  ------                   --------------  -----  \n",
      " 0   english                  27075 non-null  int64  \n",
      " 1   required_age             27075 non-null  int64  \n",
      " 2   achievements             27075 non-null  int64  \n",
      " 3   positive_ratings         27075 non-null  int64  \n",
      " 4   %_pos_rating             27075 non-null  int64  \n",
      " 5   negative_ratings         27075 non-null  int64  \n",
      " 6   total_number_of_ratings  27075 non-null  int64  \n",
      " 7   median_playtime          27075 non-null  int64  \n",
      " 8   price                    27075 non-null  float64\n",
      "dtypes: float64(1), int64(8)\n",
      "memory usage: 1.9 MB\n"
     ]
    }
   ],
   "source": [
    "new_steam_data.info()"
   ]
  },
  {
   "cell_type": "code",
   "execution_count": null,
   "id": "279a017a",
   "metadata": {},
   "outputs": [],
   "source": [
    "# np.unique(y)"
   ]
  },
  {
   "cell_type": "code",
   "execution_count": 174,
   "id": "d6ba70a5",
   "metadata": {},
   "outputs": [],
   "source": [
    "# Split the data into X_train, X_test, y_train, y_test\n",
    "y = new_steam_data['%_pos_rating'].values\n",
    "X = new_steam_data.drop('%_pos_rating', axis=1)\n",
    "\n",
    "X_train, X_test, y_train, y_test = train_test_split(X, y, random_state=1)"
   ]
  },
  {
   "cell_type": "code",
   "execution_count": 175,
   "id": "f41753c7",
   "metadata": {},
   "outputs": [
    {
     "name": "stdout",
     "output_type": "stream",
     "text": [
      "LogisticRegression Training score:  0.03580222594307101\n",
      "LogisticRegression Test score:  0.03176244644703797\n"
     ]
    },
    {
     "name": "stderr",
     "output_type": "stream",
     "text": [
      "C:\\Users\\VAIO\\anaconda3\\lib\\site-packages\\sklearn\\linear_model\\_logistic.py:763: ConvergenceWarning: lbfgs failed to converge (status=1):\n",
      "STOP: TOTAL NO. of ITERATIONS REACHED LIMIT.\n",
      "\n",
      "Increase the number of iterations (max_iter) or scale the data as shown in:\n",
      "    https://scikit-learn.org/stable/modules/preprocessing.html\n",
      "Please also refer to the documentation for alternative solver options:\n",
      "    https://scikit-learn.org/stable/modules/linear_model.html#logistic-regression\n",
      "  n_iter_i = _check_optimize_result(\n"
     ]
    }
   ],
   "source": [
    "# Train a Logistic Regression model print the model score\n",
    "logistic_regression = LogisticRegression().fit(X_train, y_train)\n",
    "\n",
    "print('LogisticRegression Training score: ', logistic_regression.score(X_train,y_train))\n",
    "print('LogisticRegression Test score: ', logistic_regression.score(X_test, y_test))"
   ]
  },
  {
   "cell_type": "code",
   "execution_count": 112,
   "id": "623171c2",
   "metadata": {},
   "outputs": [],
   "source": [
    "# ************does not work with positive ratings or price but no error with 'achievements' ***************"
   ]
  },
  {
   "cell_type": "code",
   "execution_count": 113,
   "id": "9c0e65ce",
   "metadata": {},
   "outputs": [
    {
     "data": {
      "text/plain": [
       "<bound method Series.unique of 0         0\n",
       "1         0\n",
       "2         0\n",
       "3         0\n",
       "4         0\n",
       "         ..\n",
       "27070     7\n",
       "27071     0\n",
       "27072    24\n",
       "27073     0\n",
       "27074     0\n",
       "Name: achievements, Length: 27075, dtype: int64>"
      ]
     },
     "execution_count": 113,
     "metadata": {},
     "output_type": "execute_result"
    }
   ],
   "source": [
    "new_steam_data['achievements'].unique"
   ]
  },
  {
   "cell_type": "code",
   "execution_count": 114,
   "id": "3cdaf989",
   "metadata": {},
   "outputs": [
    {
     "data": {
      "text/plain": [
       "<bound method Series.unique of 0        7.19\n",
       "1        3.99\n",
       "2        3.99\n",
       "3        3.99\n",
       "4        3.99\n",
       "         ... \n",
       "27070    2.09\n",
       "27071    1.69\n",
       "27072    3.99\n",
       "27073    5.19\n",
       "27074    5.19\n",
       "Name: price, Length: 27075, dtype: float64>"
      ]
     },
     "execution_count": 114,
     "metadata": {},
     "output_type": "execute_result"
    }
   ],
   "source": [
    "new_steam_data['price'].unique"
   ]
  },
  {
   "cell_type": "code",
   "execution_count": 117,
   "id": "b4773420",
   "metadata": {},
   "outputs": [
    {
     "name": "stdout",
     "output_type": "stream",
     "text": [
      "RandomForestClassifier Training score:  1.0\n",
      "RandomForestClassifier Test score:  0.374649135765992\n"
     ]
    }
   ],
   "source": [
    "# Train a Random Forest Classifier model and print the model score\n",
    "RandomForest_classifier = RandomForestClassifier(random_state=1)\n",
    "RandomForest_classifier.fit(X_train, y_train)\n",
    "print('RandomForestClassifier Training score: ', RandomForest_classifier.score(X_train,y_train))\n",
    "print('RandomForestClassifier Test score: ', RandomForest_classifier.score(X_test,y_test))"
   ]
  },
  {
   "cell_type": "code",
   "execution_count": 118,
   "id": "f59c8743",
   "metadata": {},
   "outputs": [],
   "source": [
    "# Scale the data\n",
    "scaler = StandardScaler().fit(X_train)\n",
    "X_train_scaled = scaler.transform(X_train)\n",
    "X_test_scaled = scaler.transform(X_test)"
   ]
  },
  {
   "cell_type": "code",
   "execution_count": null,
   "id": "e5c82605",
   "metadata": {},
   "outputs": [],
   "source": []
  },
  {
   "cell_type": "code",
   "execution_count": 119,
   "id": "1da2c542",
   "metadata": {},
   "outputs": [
    {
     "name": "stderr",
     "output_type": "stream",
     "text": [
      "C:\\Users\\VAIO\\anaconda3\\lib\\site-packages\\sklearn\\linear_model\\_logistic.py:763: ConvergenceWarning: lbfgs failed to converge (status=1):\n",
      "STOP: TOTAL NO. of ITERATIONS REACHED LIMIT.\n",
      "\n",
      "Increase the number of iterations (max_iter) or scale the data as shown in:\n",
      "    https://scikit-learn.org/stable/modules/preprocessing.html\n",
      "Please also refer to the documentation for alternative solver options:\n",
      "    https://scikit-learn.org/stable/modules/linear_model.html#logistic-regression\n",
      "  n_iter_i = _check_optimize_result(\n"
     ]
    },
    {
     "name": "stdout",
     "output_type": "stream",
     "text": [
      "Scaled LogisticRegression Training score:  0.43868807249088937\n",
      "Scaled LogisticRegression Test score:  0.43182153937066037\n"
     ]
    }
   ],
   "source": [
    "# Train the Logistic Regression model on the scaled data and print the model score\n",
    "scaled_logistic = LogisticRegression(\n",
    "    solver='lbfgs',\n",
    "    max_iter=100,\n",
    "    random_state=1\n",
    ")\n",
    "scaled_logistic.fit(X_train_scaled, y_train)\n",
    "\n",
    "print('Scaled LogisticRegression Training score: ', scaled_logistic.score(X_train_scaled, y_train))\n",
    "print('Scaled LogisticRegression Test score: ',scaled_logistic.score(X_test_scaled, y_test))"
   ]
  },
  {
   "cell_type": "code",
   "execution_count": null,
   "id": "08864a60",
   "metadata": {},
   "outputs": [],
   "source": []
  },
  {
   "cell_type": "code",
   "execution_count": 120,
   "id": "cbe63ab9",
   "metadata": {},
   "outputs": [
    {
     "name": "stdout",
     "output_type": "stream",
     "text": [
      "Scaled RandomForestClassifier Training score:  1.0\n",
      "Scaled RandomForestClassifier Test score:  0.37568326192938395\n"
     ]
    }
   ],
   "source": [
    "# Train a Random Forest Classifier model on the scaled data and print the model score\n",
    "scaled_random_forest = RandomForestClassifier(random_state=0)\n",
    "scaled_random_forest.fit(X_train_scaled, y_train)\n",
    "print('Scaled RandomForestClassifier Training score: ', scaled_random_forest.score(X_train_scaled,y_train))\n",
    "print('Scaled RandomForestClassifier Test score: ', scaled_random_forest.score(X_test_scaled, y_test))"
   ]
  },
  {
   "cell_type": "code",
   "execution_count": null,
   "id": "4cd92cf7",
   "metadata": {},
   "outputs": [],
   "source": []
  }
 ],
 "metadata": {
  "kernelspec": {
   "display_name": "Python 3 (ipykernel)",
   "language": "python",
   "name": "python3"
  },
  "language_info": {
   "codemirror_mode": {
    "name": "ipython",
    "version": 3
   },
   "file_extension": ".py",
   "mimetype": "text/x-python",
   "name": "python",
   "nbconvert_exporter": "python",
   "pygments_lexer": "ipython3",
   "version": "3.9.7"
  }
 },
 "nbformat": 4,
 "nbformat_minor": 5
}
